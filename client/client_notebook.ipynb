{
 "cells": [
  {
   "cell_type": "code",
   "execution_count": null,
   "metadata": {},
   "outputs": [],
   "source": [
    "import requests\n",
    "\n",
    "def train_model(model_name, X, y):\n",
    "    data = {\n",
    "        \"model_name\": model_name,\n",
    "        \"max_models\": 5,\n",
    "        \"model_dir\": \"/models\",\n",
    "        \"n_jobs\": 4\n",
    "    }\n",
    "    response = requests.post(\"http://localhost:8000/fit/\", json=data, params={\"X\": X, \"y\": y})\n",
    "    print(response.json())"
   ]
  },
  {
   "cell_type": "code",
   "execution_count": null,
   "metadata": {},
   "outputs": [],
   "source": [
    "# Обучим модель\n",
    "X = [[1, 2], [3, 4]]\n",
    "y = [0, 1]\n",
    "train_model(\"logistic_regression\", X, y)"
   ]
  },
  {
   "cell_type": "code",
   "execution_count": null,
   "metadata": {},
   "outputs": [],
   "source": [
    "# Получим предсказания\n",
    "def predict(model_name, X):\n",
    "    response = requests.post(f\"http://localhost:8000/predict/\", json={\"model_name\": model_name, \"X\": X})\n",
    "    print(response.json())\n",
    "\n",
    "predict(\"logistic_regression\", [[5, 6], [7, 8]])"
   ]
  }
 ],
 "metadata": {
  "kernelspec": {
   "display_name": ".venv",
   "language": "python",
   "name": "python3"
  },
  "language_info": {
   "name": "python",
   "version": "3.9.6"
  }
 },
 "nbformat": 4,
 "nbformat_minor": 2
}
